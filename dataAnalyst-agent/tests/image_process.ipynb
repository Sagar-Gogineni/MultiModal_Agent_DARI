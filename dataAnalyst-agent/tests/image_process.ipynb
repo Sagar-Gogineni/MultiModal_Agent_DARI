{
 "cells": [
  {
   "cell_type": "code",
   "execution_count": 1,
   "metadata": {},
   "outputs": [],
   "source": [
    "import os\n",
    "from dotenv import load_dotenv\n",
    "from llama_index.llms.openai import OpenAI\n",
    "from llama_index.multi_modal_llms.openai import OpenAIMultiModal\n",
    "\n",
    "load_dotenv()\n",
    "        \n",
    "openai_mm_llm = OpenAIMultiModal(\n",
    "    model=\"gpt-4o-mini\",\n",
    ")"
   ]
  },
  {
   "cell_type": "code",
   "execution_count": 2,
   "metadata": {},
   "outputs": [
    {
     "name": "stdout",
     "output_type": "stream",
     "text": [
      "PDF to image conversion completed.\n"
     ]
    }
   ],
   "source": [
    "import os\n",
    "from pdf2image import convert_from_path\n",
    "\n",
    "# Path to the folder containing PDF files\n",
    "pdf_folder = 'data_store/pdf_data/'\n",
    "# Path to the folder where images will be saved\n",
    "image_folder = 'data_store/images_data/'\n",
    "\n",
    "# Create the 'images_data' folder if it doesn't exist\n",
    "if not os.path.exists(image_folder):\n",
    "    os.makedirs(image_folder)\n",
    "\n",
    "# Loop through all the files in the pdf_folder\n",
    "for pdf_file in os.listdir(pdf_folder):\n",
    "    if pdf_file.endswith(\".pdf\"):\n",
    "        pdf_path = os.path.join(pdf_folder, pdf_file)\n",
    "        \n",
    "        # Convert PDF pages to images\n",
    "        images = convert_from_path(pdf_path)\n",
    "        \n",
    "        # Save each page as an image\n",
    "        for i, image in enumerate(images):\n",
    "            image_file_name = os.path.join(image_folder, f\"{os.path.splitext(pdf_file)[0]}_page_{i + 1}.jpg\")\n",
    "            image.save(image_file_name, 'JPEG')\n",
    "\n",
    "print(\"PDF to image conversion completed.\")\n"
   ]
  },
  {
   "cell_type": "code",
   "execution_count": 3,
   "metadata": {},
   "outputs": [
    {
     "name": "stdout",
     "output_type": "stream",
     "text": [
      "[ImageDocument(id_='7da1e081-3874-4ea1-887f-a80c8eb50a46', embedding=None, metadata={'file_path': 'c:\\\\Users\\\\Sagar G R\\\\BrandBaiston\\\\dataAnalyst-agent\\\\dataanalyst_agent\\\\data_store\\\\images_data\\\\chart1_page_1.jpg', 'file_name': 'chart1_page_1.jpg', 'file_type': 'image/jpeg', 'file_size': 8304, 'creation_date': '2024-10-18', 'last_modified_date': '2024-10-20'}, excluded_embed_metadata_keys=['file_name', 'file_type', 'file_size', 'creation_date', 'last_modified_date', 'last_accessed_date'], excluded_llm_metadata_keys=['file_name', 'file_type', 'file_size', 'creation_date', 'last_modified_date', 'last_accessed_date'], relationships={}, text='', mimetype='text/plain', start_char_idx=None, end_char_idx=None, text_template='{metadata_str}\\n\\n{content}', metadata_template='{key}: {value}', metadata_seperator='\\n', image=None, image_path='c:\\\\Users\\\\Sagar G R\\\\BrandBaiston\\\\dataAnalyst-agent\\\\dataanalyst_agent\\\\data_store\\\\images_data\\\\chart1_page_1.jpg', image_url=None, image_mimetype=None, text_embedding=None), ImageDocument(id_='c68b795c-a608-4e12-9c8d-4145589e3740', embedding=None, metadata={'file_path': 'c:\\\\Users\\\\Sagar G R\\\\BrandBaiston\\\\dataAnalyst-agent\\\\dataanalyst_agent\\\\data_store\\\\images_data\\\\chart2_page_1.jpg', 'file_name': 'chart2_page_1.jpg', 'file_type': 'image/jpeg', 'file_size': 9288, 'creation_date': '2024-10-20', 'last_modified_date': '2024-10-20'}, excluded_embed_metadata_keys=['file_name', 'file_type', 'file_size', 'creation_date', 'last_modified_date', 'last_accessed_date'], excluded_llm_metadata_keys=['file_name', 'file_type', 'file_size', 'creation_date', 'last_modified_date', 'last_accessed_date'], relationships={}, text='', mimetype='text/plain', start_char_idx=None, end_char_idx=None, text_template='{metadata_str}\\n\\n{content}', metadata_template='{key}: {value}', metadata_seperator='\\n', image=None, image_path='c:\\\\Users\\\\Sagar G R\\\\BrandBaiston\\\\dataAnalyst-agent\\\\dataanalyst_agent\\\\data_store\\\\images_data\\\\chart2_page_1.jpg', image_url=None, image_mimetype=None, text_embedding=None), ImageDocument(id_='cc74295b-cf69-4de8-bfc9-7d88fef7831a', embedding=None, metadata={'file_path': 'c:\\\\Users\\\\Sagar G R\\\\BrandBaiston\\\\dataAnalyst-agent\\\\dataanalyst_agent\\\\data_store\\\\images_data\\\\chart3_page_1.jpg', 'file_name': 'chart3_page_1.jpg', 'file_type': 'image/jpeg', 'file_size': 8967, 'creation_date': '2024-10-20', 'last_modified_date': '2024-10-20'}, excluded_embed_metadata_keys=['file_name', 'file_type', 'file_size', 'creation_date', 'last_modified_date', 'last_accessed_date'], excluded_llm_metadata_keys=['file_name', 'file_type', 'file_size', 'creation_date', 'last_modified_date', 'last_accessed_date'], relationships={}, text='', mimetype='text/plain', start_char_idx=None, end_char_idx=None, text_template='{metadata_str}\\n\\n{content}', metadata_template='{key}: {value}', metadata_seperator='\\n', image=None, image_path='c:\\\\Users\\\\Sagar G R\\\\BrandBaiston\\\\dataAnalyst-agent\\\\dataanalyst_agent\\\\data_store\\\\images_data\\\\chart3_page_1.jpg', image_url=None, image_mimetype=None, text_embedding=None), ImageDocument(id_='4b5dba9f-dc89-428d-bd0e-e841e0fdcbf2', embedding=None, metadata={'file_path': 'c:\\\\Users\\\\Sagar G R\\\\BrandBaiston\\\\dataAnalyst-agent\\\\dataanalyst_agent\\\\data_store\\\\images_data\\\\chart4_page_1.jpg', 'file_name': 'chart4_page_1.jpg', 'file_type': 'image/jpeg', 'file_size': 8596, 'creation_date': '2024-10-20', 'last_modified_date': '2024-10-20'}, excluded_embed_metadata_keys=['file_name', 'file_type', 'file_size', 'creation_date', 'last_modified_date', 'last_accessed_date'], excluded_llm_metadata_keys=['file_name', 'file_type', 'file_size', 'creation_date', 'last_modified_date', 'last_accessed_date'], relationships={}, text='', mimetype='text/plain', start_char_idx=None, end_char_idx=None, text_template='{metadata_str}\\n\\n{content}', metadata_template='{key}: {value}', metadata_seperator='\\n', image=None, image_path='c:\\\\Users\\\\Sagar G R\\\\BrandBaiston\\\\dataAnalyst-agent\\\\dataanalyst_agent\\\\data_store\\\\images_data\\\\chart4_page_1.jpg', image_url=None, image_mimetype=None, text_embedding=None), ImageDocument(id_='5526f322-41bc-4e28-9f7c-b2c9b974d822', embedding=None, metadata={'file_path': 'c:\\\\Users\\\\Sagar G R\\\\BrandBaiston\\\\dataAnalyst-agent\\\\dataanalyst_agent\\\\data_store\\\\images_data\\\\chart5_page_1.jpg', 'file_name': 'chart5_page_1.jpg', 'file_type': 'image/jpeg', 'file_size': 34806, 'creation_date': '2024-10-20', 'last_modified_date': '2024-10-20'}, excluded_embed_metadata_keys=['file_name', 'file_type', 'file_size', 'creation_date', 'last_modified_date', 'last_accessed_date'], excluded_llm_metadata_keys=['file_name', 'file_type', 'file_size', 'creation_date', 'last_modified_date', 'last_accessed_date'], relationships={}, text='', mimetype='text/plain', start_char_idx=None, end_char_idx=None, text_template='{metadata_str}\\n\\n{content}', metadata_template='{key}: {value}', metadata_seperator='\\n', image=None, image_path='c:\\\\Users\\\\Sagar G R\\\\BrandBaiston\\\\dataAnalyst-agent\\\\dataanalyst_agent\\\\data_store\\\\images_data\\\\chart5_page_1.jpg', image_url=None, image_mimetype=None, text_embedding=None), ImageDocument(id_='865a935d-76f9-4598-977e-bbdb7e67f39d', embedding=None, metadata={'file_path': 'c:\\\\Users\\\\Sagar G R\\\\BrandBaiston\\\\dataAnalyst-agent\\\\dataanalyst_agent\\\\data_store\\\\images_data\\\\chart6_page_1.jpg', 'file_name': 'chart6_page_1.jpg', 'file_type': 'image/jpeg', 'file_size': 35921, 'creation_date': '2024-10-20', 'last_modified_date': '2024-10-20'}, excluded_embed_metadata_keys=['file_name', 'file_type', 'file_size', 'creation_date', 'last_modified_date', 'last_accessed_date'], excluded_llm_metadata_keys=['file_name', 'file_type', 'file_size', 'creation_date', 'last_modified_date', 'last_accessed_date'], relationships={}, text='', mimetype='text/plain', start_char_idx=None, end_char_idx=None, text_template='{metadata_str}\\n\\n{content}', metadata_template='{key}: {value}', metadata_seperator='\\n', image=None, image_path='c:\\\\Users\\\\Sagar G R\\\\BrandBaiston\\\\dataAnalyst-agent\\\\dataanalyst_agent\\\\data_store\\\\images_data\\\\chart6_page_1.jpg', image_url=None, image_mimetype=None, text_embedding=None), ImageDocument(id_='608b84ed-5c4d-449b-8d64-212342bdd5df', embedding=None, metadata={'file_path': 'c:\\\\Users\\\\Sagar G R\\\\BrandBaiston\\\\dataAnalyst-agent\\\\dataanalyst_agent\\\\data_store\\\\images_data\\\\chart7_page_1.jpg', 'file_name': 'chart7_page_1.jpg', 'file_type': 'image/jpeg', 'file_size': 26961, 'creation_date': '2024-10-20', 'last_modified_date': '2024-10-20'}, excluded_embed_metadata_keys=['file_name', 'file_type', 'file_size', 'creation_date', 'last_modified_date', 'last_accessed_date'], excluded_llm_metadata_keys=['file_name', 'file_type', 'file_size', 'creation_date', 'last_modified_date', 'last_accessed_date'], relationships={}, text='', mimetype='text/plain', start_char_idx=None, end_char_idx=None, text_template='{metadata_str}\\n\\n{content}', metadata_template='{key}: {value}', metadata_seperator='\\n', image=None, image_path='c:\\\\Users\\\\Sagar G R\\\\BrandBaiston\\\\dataAnalyst-agent\\\\dataanalyst_agent\\\\data_store\\\\images_data\\\\chart7_page_1.jpg', image_url=None, image_mimetype=None, text_embedding=None), ImageDocument(id_='1ddb3ee2-c6a3-456d-b5b0-a48f798d9888', embedding=None, metadata={'file_path': 'c:\\\\Users\\\\Sagar G R\\\\BrandBaiston\\\\dataAnalyst-agent\\\\dataanalyst_agent\\\\data_store\\\\images_data\\\\chart8_page_1.jpg', 'file_name': 'chart8_page_1.jpg', 'file_type': 'image/jpeg', 'file_size': 23240, 'creation_date': '2024-10-20', 'last_modified_date': '2024-10-20'}, excluded_embed_metadata_keys=['file_name', 'file_type', 'file_size', 'creation_date', 'last_modified_date', 'last_accessed_date'], excluded_llm_metadata_keys=['file_name', 'file_type', 'file_size', 'creation_date', 'last_modified_date', 'last_accessed_date'], relationships={}, text='', mimetype='text/plain', start_char_idx=None, end_char_idx=None, text_template='{metadata_str}\\n\\n{content}', metadata_template='{key}: {value}', metadata_seperator='\\n', image=None, image_path='c:\\\\Users\\\\Sagar G R\\\\BrandBaiston\\\\dataAnalyst-agent\\\\dataanalyst_agent\\\\data_store\\\\images_data\\\\chart8_page_1.jpg', image_url=None, image_mimetype=None, text_embedding=None), ImageDocument(id_='f9cd8bfd-dd78-4f01-b4a2-aa462b9f8164', embedding=None, metadata={'file_path': 'c:\\\\Users\\\\Sagar G R\\\\BrandBaiston\\\\dataAnalyst-agent\\\\dataanalyst_agent\\\\data_store\\\\images_data\\\\chart9_page_1.jpg', 'file_name': 'chart9_page_1.jpg', 'file_type': 'image/jpeg', 'file_size': 53455, 'creation_date': '2024-10-20', 'last_modified_date': '2024-10-20'}, excluded_embed_metadata_keys=['file_name', 'file_type', 'file_size', 'creation_date', 'last_modified_date', 'last_accessed_date'], excluded_llm_metadata_keys=['file_name', 'file_type', 'file_size', 'creation_date', 'last_modified_date', 'last_accessed_date'], relationships={}, text='', mimetype='text/plain', start_char_idx=None, end_char_idx=None, text_template='{metadata_str}\\n\\n{content}', metadata_template='{key}: {value}', metadata_seperator='\\n', image=None, image_path='c:\\\\Users\\\\Sagar G R\\\\BrandBaiston\\\\dataAnalyst-agent\\\\dataanalyst_agent\\\\data_store\\\\images_data\\\\chart9_page_1.jpg', image_url=None, image_mimetype=None, text_embedding=None), Document(id_='9be80057-f332-4aa1-8563-62ee8f9cb893', embedding=None, metadata={'file_path': 'c:\\\\Users\\\\Sagar G R\\\\BrandBaiston\\\\dataAnalyst-agent\\\\dataanalyst_agent\\\\data_store\\\\images_data\\\\comments.txt', 'file_name': 'comments.txt', 'file_type': 'text/plain', 'file_size': 11274, 'creation_date': '2024-10-20', 'last_modified_date': '2024-10-20'}, excluded_embed_metadata_keys=['file_name', 'file_type', 'file_size', 'creation_date', 'last_modified_date', 'last_accessed_date'], excluded_llm_metadata_keys=['file_name', 'file_type', 'file_size', 'creation_date', 'last_modified_date', 'last_accessed_date'], relationships={}, text='\"What a mess, I couldn’t get through half of it.\",\"Just got back from a weekend getaway with the squad, best time ever!\",\"I unsubscribed, not worth my money anymore.\",\"Terrible acting, couldn’t finish the first episode.\",\"How do you justify charging so much for this service?\",\"I’m canceling my subscription if you keep raising the price!\",\"This movie was everything! Such a rollercoaster of emotions!\",\"Finally hopped on the [app] trend, and I’m loving it!\",\"Everyone needs to watch this as soon as it’s out!\",\"Okay, but can we appreciate how great the costumes were?\",\"I’m still processing what happened, someone explain!\",\"I’m marking my calendar for this premiere!\",\"I liked some characters, but others were annoying.\",\"So pumped for this series to drop, the cast is amazing!\",\"Who else loved the twist at the end? 😱\",\"I didn’t love it, but it wasn’t as bad as people are saying.\",\"You’re killing it with these new releases!\",\"This was so heartwarming and beautifully made!\",\"I need to discuss this with someone, that finale!\",\"Why is it so hard to navigate the app?\",\"This series was a waste of time. So disappointed.\",\"I thought the cinematography was beautiful, but the story was slow.\",\"This new season was such a letdown compared to the first one.\",\"Your customer service is terrible, I couldn’t get any help!\",\"The character development in this show is insane!\",\"Can someone explain why I’m still obsessed with [90s show]?\",\"Anyone else crying their eyes out after that finale?\",\"This wasn’t what I expected, but I enjoyed parts of it.\",\"Stop canceling my favorite shows!\",\"Need a free account? I’ve got you covered, DM!\",\"The anticipation is killing me, drop it already!\",\"Why is it so hard to make new friends as an adult?\",\"This show had so much potential but totally flopped.\",\"Nothing beats a movie night with friends!\",\"I thought the concept was interesting, but it fell flat.\",\"This show was such a rollercoaster, what was everyone’s favorite part?\",\"Watch full movies for free at this link!\",\"I can’t believe how fast this year is going!\",\"Can’t wait for this show to drop! So excited!\",\"Just discovered a new podcast and I’m hooked!\",\"Spent the day reorganizing my closet. It’s a whole new world in there!\",\"I can’t stop watching the trailer, so excited for this!\",\"Stream shows in HD for free on this platform!\",\"How did this even get greenlit?\",\"Counting down the days until this releases!\",\"This had potential but didn’t quite deliver.\",\"Who was everyone’s favorite character? Mine was definitely ____.\",\"Is it just me, or was that plot twist insane?\",\"It was good, but it didn’t blow me away.\",\"Finally, some original content worth watching!\",\"Why does the app keep crashing? Fix it!\",\"The cinematography on this series is just stunning!\",\"Not bad, but could have been so much better.\",\"This was just painful to watch. Horrible writing.\",\"Just binged an entire season of [show] in one day, oops! 😅\",\"What’s happening to the quality of content lately?\",\"Why do you keep removing my favorite shows?\",\"Stream all your favorite shows for free on this site!\",\"Hands down, the best movie I\\'ve watched this year!\",\"The memes about [current event] are killing me 😂\",\"Why does grocery shopping feel like a workout? 😂\",\"Who else is counting down the days until [big event]?\",\"I regret watching this. Do better.\",\"How is everyone getting such good results with the #NoSugarChallenge?\",\"I just want a vacation, is that too much to ask? 😅\",\"I miss my best friend so much, we need a reunion soon!\",\"Meh, it was okay, but I wouldn’t watch it again.\",\"Stop increasing the subscription price, it’s getting ridiculous!\",\"The selection is terrible lately, what’s happening?\",\"Visit our site to watch without any ads!\",\"This series had me hooked from episode 1!\",\"Can someone recommend a good book? I need something new to read.\",\"Waiting for new music from [artist] feels like forever.\",\"Had a heart-to-heart with my mom today, she always knows what to say 💕\",\"Decent show, but I’ve seen better.\",\"This looks like the next big hit!\",\"The character development is amazing!\",\"This could have been better, but I still liked it.\",\"Does anyone else feel like they’re always the one reaching out?\",\"Get the latest leaks before anyone else, click now!\",\"What’s your comfort movie? I need recommendations for a lazy day.\",\"The new layout is horrible, bring back the old one!\",\"Just spilled my coffee all over my desk... Monday strikes again.\",\"Finally got around to cleaning my room, feels so good!\",\"The plot made no sense at all!\",\"Listening to [song] on repeat, it’s such a vibe 🎶\",\"Who else is in a long-distance relationship? It’s so hard!\",\"Loved every second of this, can’t wait for more!\",\"The best original content I\\'ve seen in a while! Keep it up!\",\"Who else misses summer already? 🌞\",\"Want to win a free subscription? Click here!\",\"We all need that one friend who listens without judgment.\",\"The teasers are getting me hyped up for sure!\",\"Why is Monday always so tough? 😩\",\"I need a season 2 like right now!\",\"Does anyone know when [TV show] is coming back?\",\"Stop suggesting shows I’ve already watched!\",\"Who else fell for the [challenge name]? So much harder than it looks!\",\"Tried the TikTok feta pasta recipe... honestly, it’s worth the hype!\",\"This documentary was mind-blowing. Thank you!\",\"I’ll never get over how great [movie] was. A must-watch!\",\"That new [brand] commercial is actually so good!\",7. Excitement for Upcoming Content,\"I don’t know what I’d do without my partner’s support.\",\"Tried a new recipe today and it turned out amazing! 🍲\",\"Day 1 of my workout challenge. Let’s see if I can actually stick with it.\",\"This platform is becoming too expensive for the quality offered.\",\"I don’t understand the hype, really boring.\",\"Why do all my favorite characters always get killed off?!\",\"I really hope you stop making content like this.\",\"Wow, the acting was top-notch. Can’t wait to rewatch it!\",\"Join our giveaway to win free subscriptions!\",\"I’m obsessed with the storyline, so original!\",\"Can’t stop watching true crime documentaries lately!\",\"I keep seeing everyone talk about this new skincare trend, anyone tried it?\",\"Why do you keep canceling all the good shows?\",\"All the good shows are getting canceled, what’s going on?\",\"This movie is going to break records, I just know it!\",\"Customer service is non-existent, so frustrating.\",\"Download the full series here for free!\",\"I just signed up for a 30-day meditation challenge 🧘\\u200d♀️\",\"This is going to be epic, can’t wait to watch!\",\"I can’t believe [celebrity] just got engaged! So happy for them!\",\"I love my family, but sometimes they drive me crazy 😂\",\"Follow me for a free streaming account!\",\"I haven’t cried this much over a movie in years!\",\"I’m officially obsessed with yoga. My new morning routine!\",\"Why are relationships so complicated sometimes? 😫\",\"This movie is available for free download here!\",\"It was okay, but not something I’d recommend to friends.\",\"Just had the best coffee of my life this morning ☕️\",\"Does anyone else get random bursts of energy at 3am? 🥴\",\"I love how [actor/actress] always nails their roles.\",\"The internet is undefeated with these memes. 🤣\",\"Just had the best date night with my partner ❤️\",\"Had the weirdest dream last night... anyone else get those?\",\"Friendship isn’t about who you’ve known the longest, it’s about who’s been there when you needed them most.\",\"I’ve been waiting for this release for months!\",\"What’s the point of paying for this if the app doesn’t work?\",\"Watch unlimited shows without any payment, visit now!\",\"This trailer just gave me goosebumps, can’t wait!\",\"Watched it, wasn’t my cup of tea, but the acting was decent.\",\"The production quality is just incredible!\",\"Another hit from you guys, well done!\",\"Watch ad-free episodes with this link!\",\"Where are all the fans of this show? Let’s talk!\",\"My dog is literally my best friend, don’t @ me 🐾\",\"Earn $1000 while watching your favorite shows!\",\"I love how my friends always know how to make me laugh.\",\"Please bring back better content, this was terrible!\",\"That moment when you realize ____ was the real villain!\",\"Can we talk about how good the soundtrack was?\",\"I’ll probably forget about this show in a week.\",\"I’ve been following this project for so long, finally it’s coming!\",\"I can’t believe you took this show off!\",\"This show is so predictable. I expected more.\",\"Get free streaming accounts by clicking here!\",\"Is anyone else doing the #10YearChallenge? So fun to look back!\",\"Get unlimited streaming access by signing up here!\",\"Some scenes were great, but it didn’t keep my attention.\",\"Good for a one-time watch, nothing more.\",\"I’ve had enough of these glitches, please do something about it.\",\"My friend just moved across the country, and I’m low-key devastated.\",\"Unlock all your favorite shows without paying!\",\"This show is my new favorite, binge-watching it this weekend!\",\"My friend just introduced me to my new favorite band!\",\"Has anyone else seen the new Marvel movie? Thoughts?\",\"So tired of the same recycled storylines.\",\"Click here for a free trial!\",\"I’m tired of paying more for less content.\",\"My account keeps getting logged out for no reason!\",\"The group chat is on fire today! 😂\",\"I’m really craving sushi right now 🍣\",\"You need to fix the streaming quality, it’s awful.\",\"Who else is excited for the weekend? 🙌\",\"Some of the episodes were great, others not so much.\",\"Overhyped and underwhelming, such a shame.\",\"Just tried the [brand] viral product... I’m shook!\",\"Does anyone else think [celebrity] has the best style?\",\"So grateful for the friends who are like family.\",\"I just want to know how everyone’s making those cool aesthetic videos!\",\"DM me to get the latest episodes for free!\",\"This is going to be the best movie of the year, I can feel it!\",\"This [video game] is so addicting, I’ve been playing all weekend.\",\"This show deserves all the awards!\",\"This platform used to be great, but it’s really gone downhill.\",\"Want to earn $500 a day from home? Click now!\",\"Does anyone have any theories about the ending?\",\"That cliffhanger though! 😭\",\"So excited for the new content coming out!\",\"Can’t believe I waited for this, what a disaster.\",\"Some parts were great, but overall it felt a little rushed.\",\"Random acts of kindness from friends mean the most.\",\"Why does everyone love [show]? I don’t get the hype.\",\"This year is all about self-care and focusing on me ✨\",\"I’m way too excited for sweater weather 🍂\",\"I’m not sure how I feel about this yet, still processing.\",\"I absolutely LOVED this show! Can’t wait for season 2!\",\"OMG, did you hear the latest album by [Artist]? It’s FIRE! 🔥\",\"It was a good watch, but nothing extraordinary.\",\"I didn’t expect to get this emotional over it!\",\"I’m still not over that ending, mind blown!\",\"Does anyone know when the next season is coming out?\",\"Woke up to the sound of rain. Such a cozy vibe 🌧️\",\"What do you guys think is going to happen next season?\",\"That plot twist in the last episode... I did NOT see that coming 😱\"', mimetype='text/plain', start_char_idx=None, end_char_idx=None, text_template='{metadata_str}\\n\\n{content}', metadata_template='{key}: {value}', metadata_seperator='\\n')]\n"
     ]
    }
   ],
   "source": [
    "from llama_index.core import SimpleDirectoryReader\n",
    "image_dir='./data_store/images_data'\n",
    "image_documents = SimpleDirectoryReader(image_dir).load_data()\n",
    "\n",
    "print(image_documents)"
   ]
  },
  {
   "cell_type": "code",
   "execution_count": 4,
   "metadata": {},
   "outputs": [
    {
     "name": "stderr",
     "output_type": "stream",
     "text": [
      "c:\\Users\\Public\\anaconda3\\envs\\env_job_assistant\\lib\\site-packages\\tqdm\\auto.py:21: TqdmWarning: IProgress not found. Please update jupyter and ipywidgets. See https://ipywidgets.readthedocs.io/en/stable/user_install.html\n",
      "  from .autonotebook import tqdm as notebook_tqdm\n"
     ]
    }
   ],
   "source": [
    "from llama_index.core.indices import MultiModalVectorStoreIndex\n",
    "from llama_index.vector_stores.qdrant import QdrantVectorStore\n",
    "from llama_index.core import SimpleDirectoryReader, StorageContext\n",
    "from llama_index.embeddings.nomic import NomicEmbedding\n",
    "\n",
    "import qdrant_client\n",
    "\n",
    "# Create a local Qdrant vector store\n",
    "client = qdrant_client.QdrantClient(path=\"./qdrant_store\")\n"
   ]
  },
  {
   "cell_type": "code",
   "execution_count": 5,
   "metadata": {},
   "outputs": [
    {
     "name": "stderr",
     "output_type": "stream",
     "text": [
      "WARNING:root:Payload indexes have no effect in the local Qdrant. Please use server Qdrant if you need payload indexes.\n"
     ]
    }
   ],
   "source": [
    "text_store = QdrantVectorStore(\n",
    "    client=client, collection_name=\"text_collection\"\n",
    ")\n",
    "image_store = QdrantVectorStore(\n",
    "    client=client, collection_name=\"image_collection\"\n",
    ")\n",
    "\n",
    "storage_context = StorageContext.from_defaults(\n",
    "    # vector_store=text_store,\n",
    "    image_store=image_store\n",
    ")\n",
    "\n",
    "# embedding_model = NomicEmbedding(\n",
    "#     api_key=\"nk-n7HB3TCeSHPpU6mptDYVhbwhSPaWS_NuWb3DSkNdMdk\",\n",
    "#     model_name=\"nomic-embed-text-v1.5\",\n",
    "#     vision_model_name=\"nomic-embed-vision-v1.5\",\n",
    "# )\n",
    "\n",
    "# Create the MultiModal index\n",
    "documents = SimpleDirectoryReader(image_folder).load_data()\n",
    "index = MultiModalVectorStoreIndex.from_documents(\n",
    "    documents,\n",
    "    storage_context=storage_context,\n",
    "    # embed_model=embedding_model,\n",
    "    # image_embed_model=embedding_model,\n",
    ")"
   ]
  },
  {
   "cell_type": "code",
   "execution_count": null,
   "metadata": {},
   "outputs": [],
   "source": [
    "# # Load text and image documents from local folder\n",
    "# documents = SimpleDirectoryReader(image_folder).load_data()\n",
    "# # Create the MultiModal index\n",
    "# index = MultiModalVectorStoreIndex.from_documents(\n",
    "#     documents,\n",
    "#     storage_context=storage_context,\n",
    "# )"
   ]
  },
  {
   "cell_type": "code",
   "execution_count": 1,
   "metadata": {},
   "outputs": [
    {
     "ename": "NameError",
     "evalue": "name 'index' is not defined",
     "output_type": "error",
     "traceback": [
      "\u001b[1;31m---------------------------------------------------------------------------\u001b[0m",
      "\u001b[1;31mNameError\u001b[0m                                 Traceback (most recent call last)",
      "Cell \u001b[1;32mIn[1], line 9\u001b[0m\n\u001b[0;32m      5\u001b[0m query_str \u001b[38;5;241m=\u001b[39m \u001b[38;5;124m\"\u001b[39m\u001b[38;5;124mcan you find the example commments that are negative\u001b[39m\u001b[38;5;124m\"\u001b[39m\n\u001b[0;32m      6\u001b[0m \u001b[38;5;66;03m# \"give me an overview of the points where we're doing worse than in the last reporting period\"\u001b[39;00m\n\u001b[0;32m      7\u001b[0m \u001b[38;5;66;03m# \"what is the total nuber of conversation and tell me what percenteage is positive and what percentage is negative\"\u001b[39;00m\n\u001b[1;32m----> 9\u001b[0m retriever_engine \u001b[38;5;241m=\u001b[39m \u001b[43mindex\u001b[49m\u001b[38;5;241m.\u001b[39mas_retriever(\n\u001b[0;32m     10\u001b[0m     \u001b[38;5;66;03m# similarity_top_k=3, \u001b[39;00m\n\u001b[0;32m     11\u001b[0m     image_similarity_top_k\u001b[38;5;241m=\u001b[39m\u001b[38;5;241m3\u001b[39m\n\u001b[0;32m     12\u001b[0m )\n\u001b[0;32m     14\u001b[0m \u001b[38;5;66;03m# # retrieve more information from the GPT4V response\u001b[39;00m\n\u001b[0;32m     15\u001b[0m retrieval_results \u001b[38;5;241m=\u001b[39m retriever_engine\u001b[38;5;241m.\u001b[39mretrieve(query_str)\n",
      "\u001b[1;31mNameError\u001b[0m: name 'index' is not defined"
     ]
    }
   ],
   "source": [
    "from llama_index.multi_modal_llms.openai import OpenAIMultiModal\n",
    "from llama_index.core import PromptTemplate\n",
    "from llama_index.core.query_engine import SimpleMultiModalQueryEngine\n",
    "\n",
    "query_str = \"can you find the example commments that are negative\"\n",
    "# \"give me an overview of the points where we're doing worse than in the last reporting period\"\n",
    "# \"what is the total nuber of conversation and tell me what percenteage is positive and what percentage is negative\"\n",
    "\n",
    "retriever_engine = index.as_retriever(\n",
    "    # similarity_top_k=3, \n",
    "    image_similarity_top_k=3\n",
    ")\n",
    "\n",
    "# # retrieve more information from the GPT4V response\n",
    "retrieval_results = retriever_engine.retrieve(query_str)\n",
    "\n",
    "# # if you only need image retrieval without text retrieval\n",
    "# # you can use `text_to_image_retrieve`\n",
    "# retrieval_results = retriever_engine.text_to_image_retrieve(query_str)\n",
    "\n",
    "print(retrieval_results)\n",
    "\n",
    "\n",
    "\n",
    "qa_tmpl_str = (\n",
    "    \"You are a Data analyst that specializes in reading data-heavy reports and extracting insights regarding the social media activity on a media brand space.\\n\"\n",
    "    \"Evaluate if the query from the user is analytical in nature. If not, reply to the user politely and re-steer the conversation to be about analytics or follow up on analytics. Do not allow the conversation to diverge from these topics.\\n\"\n",
    "    \"Context information is below.\\n\"\n",
    "    \"---------------------\\n\"\n",
    "    \"{context_str}\\n\"\n",
    "    \"---------------------\\n\"\n",
    "    \"Given the context information and not prior knowledge, \"\n",
    "    \"answer the query.\\n\"\n",
    "    \"Query: {query_str}\\n\"\n",
    "    \"Answer: \"\n",
    ")\n",
    "qa_tmpl = PromptTemplate(qa_tmpl_str)\n",
    "\n",
    "query_engine = index.as_query_engine(\n",
    "    llm=openai_mm_llm,similarity_top_k=2, \n",
    "    image_similarity_top_k=5\n",
    ")\n",
    "\n",
    "response = query_engine.query(query_str)"
   ]
  },
  {
   "cell_type": "code",
   "execution_count": 9,
   "metadata": {},
   "outputs": [
    {
     "name": "stdout",
     "output_type": "stream",
     "text": [
      "Here are some examples of negative comments from the provided context:\n",
      "\n",
      "1. \"This platform used to be great, but it’s really gone downhill.\"\n",
      "2. \"Can’t believe I waited for this, what a disaster.\"\n",
      "3. \"I didn’t love it, but it wasn’t as bad as people are saying.\"\n",
      "4. \"This series was a waste of time. So disappointed.\"\n",
      "5. \"The character development in this show is insane!\"\n",
      "6. \"This show had so much potential but totally flopped.\"\n",
      "7. \"This was just painful to watch. Horrible writing.\"\n",
      "8. \"I regret watching this. Do better.\"\n",
      "9. \"The selection is terrible lately, what’s happening?\"\n",
      "\n",
      "These comments express dissatisfaction or disappointment regarding various shows, platforms, or content.\n"
     ]
    }
   ],
   "source": [
    "print(str(response))"
   ]
  },
  {
   "cell_type": "code",
   "execution_count": 10,
   "metadata": {},
   "outputs": [],
   "source": [
    "from llama_index.core.tools import QueryEngineTool,ToolMetadata\n",
    "\n",
    "query_tool = QueryEngineTool(\n",
    "    query_engine=index.as_query_engine(llm=openai_mm_llm,similarity_top_k=2, image_similarity_top_k=5),\n",
    "    metadata=ToolMetadata(\n",
    "        name=f\"vector_tool\",\n",
    "        description=(\n",
    "            \"Useful to retrieve relevand data to answer the question\"\n",
    "            # \"Useful to lookup any information regarding the image\"\n",
    "        ),\n",
    "    ),\n",
    ")"
   ]
  },
  {
   "cell_type": "code",
   "execution_count": 16,
   "metadata": {},
   "outputs": [
    {
     "name": "stderr",
     "output_type": "stream",
     "text": [
      "WARNING:llama_index.core.agent.react.formatter:ReActChatFormatter.from_context is deprecated, please use `from_defaults` instead.\n"
     ]
    }
   ],
   "source": [
    "from llama_index.core.agent import ReActAgent\n",
    "context = \"\"\"\\\n",
    "\"System:You are a Data analyst that specializes in reading data-heavy reports and extracting insights regarding the social media activity on a media brand space.\\n\"\n",
    "    \"Evaluate if the query from the user is analytical in nature. If not, reply to the user politely and re-steer the conversation to be about analytics or follow up on analytics. Do not allow the conversation to diverge from these topics.\\n\"\n",
    "    \"Context information is below.\\n\"\n",
    "    \"---------------------\\n\"\n",
    "    \"{context_str}\\n\"\n",
    "    \"---------------------\\n\"\n",
    "    \"Given the context information and not prior knowledge, \"\n",
    "    \"answer the query.\\n\"\n",
    "    \"Query: {query_str}\\n\"\n",
    "    \"Answer: \"\n",
    "\"\"\"\n",
    "agent = ReActAgent.from_tools(\n",
    "    [query_tool], \n",
    "    verbose=True,\n",
    "    context=context\n",
    "\n",
    ")"
   ]
  },
  {
   "cell_type": "code",
   "execution_count": 18,
   "metadata": {},
   "outputs": [
    {
     "name": "stdout",
     "output_type": "stream",
     "text": [
      "> Running step d86a518d-8f16-4ce5-8fe7-74d3e469d121. Step input: give me an overview of the points where we're doing worse than in the last reporting period.\n",
      "\u001b[1;3;38;5;200mThought: The current language of the user is: English. I need to use a tool to help me answer the question.\n",
      "Action: vector_tool\n",
      "Action Input: {'input': \"points where we're doing worse than in the last reporting period\"}\n",
      "\u001b[0m\u001b[1;3;34mObservation: Based on the provided context, here are the points where we're doing worse than in the last reporting period:\n",
      "\n",
      "1. **Negative Conversations**: There has been an increase in negative conversations, with a total of **28,862** negative comments, which reflects an **81.8%** increase compared to the previous period.\n",
      "\n",
      "2. **Hidden Comments by Tag**: The number of harmful comments has also increased significantly, particularly in categories such as:\n",
      "   - **Spam**: Increased by **171%**.\n",
      "   - **Personal Attacks/Bullying**: Increased by **125.2%**.\n",
      "   - **Distributing/Molesting**: Increased by **954.4%**.\n",
      "   - **Brand Attacks**: Increased by **160.8%**.\n",
      "\n",
      "These metrics indicate a decline in sentiment and an increase in harmful interactions, suggesting areas that require attention and improvement.\n",
      "\u001b[0m> Running step bf954676-9449-4746-b792-879642bb2bee. Step input: None\n",
      "\u001b[1;3;38;5;200mThought: I can answer without using any more tools. I'll use the user's language to answer\n",
      "Answer: Based on the data, we are seeing an increase in negative conversations and harmful comments compared to the last reporting period. This indicates a decline in sentiment and an increase in negative interactions that need to be addressed.\n",
      "\u001b[0mBased on the data, we are seeing an increase in negative conversations and harmful comments compared to the last reporting period. This indicates a decline in sentiment and an increase in negative interactions that need to be addressed.\n"
     ]
    }
   ],
   "source": [
    "response = agent.chat(\n",
    "#    \"what are people so mad about that we have so many negative comments? can you list some sample comments\"\n",
    "    \"give me an overview of the points where we're doing worse than in the last reporting period.\"\n",
    ")\n",
    "\n",
    "print(response)"
   ]
  },
  {
   "cell_type": "code",
   "execution_count": 19,
   "metadata": {},
   "outputs": [],
   "source": [
    "\n",
    "from llama_index.core.memory import (\n",
    "    VectorMemory,\n",
    "    SimpleComposableMemory,\n",
    "    ChatMemoryBuffer,\n",
    ")\n",
    "from llama_index.core.llms import ChatMessage\n",
    "from llama_index.embeddings.openai import OpenAIEmbedding\n",
    "\n",
    "vector_memory = VectorMemory.from_defaults(\n",
    "    vector_store=None,  # leave as None to use default in-memory vector store\n",
    "    embed_model=OpenAIEmbedding(),\n",
    "    retriever_kwargs={\"similarity_top_k\": 2},\n",
    ")\n",
    "\n",
    "chat_memory_buffer = ChatMemoryBuffer.from_defaults()\n",
    "\n",
    "composable_memory = SimpleComposableMemory.from_defaults(\n",
    "    primary_memory=chat_memory_buffer,\n",
    "    secondary_memory_sources=[vector_memory],\n",
    ")"
   ]
  },
  {
   "cell_type": "code",
   "execution_count": 21,
   "metadata": {},
   "outputs": [
    {
     "name": "stderr",
     "output_type": "stream",
     "text": [
      "WARNING:llama_index.core.agent.react.formatter:ReActChatFormatter.from_context is deprecated, please use `from_defaults` instead.\n"
     ]
    }
   ],
   "source": [
    "\n",
    "from llama_index.llms.openai import OpenAI\n",
    "from llama_index.core.tools import FunctionTool\n",
    "from llama_index.core.agent import FunctionCallingAgent\n",
    "\n",
    "agent = ReActAgent.from_tools(\n",
    "    [query_tool], \n",
    "    verbose=True,\n",
    "    context=context,\n",
    "    memory=composable_memory)"
   ]
  },
  {
   "cell_type": "code",
   "execution_count": 26,
   "metadata": {},
   "outputs": [
    {
     "name": "stdout",
     "output_type": "stream",
     "text": [
      "> Running step a63a8d50-f013-46ff-9e62-d549a8245671. Step input: hi whats my name\n",
      "\u001b[1;3;38;5;200mThought: The current language of the user is: English. I need to use a tool to help me answer the question.\n",
      "Action: vector_tool\n",
      "Action Input: {'input': \"user's name\"}\n",
      "\u001b[0m\u001b[1;3;34mObservation: I'm unable to determine the user's name based on the provided context information.\n",
      "\u001b[0m> Running step 5b9422a9-6ab1-474e-850d-348c8e5a5cc8. Step input: None\n",
      "\u001b[1;3;38;5;200mThought: I cannot answer the question with the provided tools.\n",
      "Answer: I cannot determine your name based on the information provided.\n",
      "\u001b[0m"
     ]
    }
   ],
   "source": [
    "response = agent.chat(\"hi whats my name\")"
   ]
  }
 ],
 "metadata": {
  "kernelspec": {
   "display_name": "env_job_assistant",
   "language": "python",
   "name": "python3"
  },
  "language_info": {
   "codemirror_mode": {
    "name": "ipython",
    "version": 3
   },
   "file_extension": ".py",
   "mimetype": "text/x-python",
   "name": "python",
   "nbconvert_exporter": "python",
   "pygments_lexer": "ipython3",
   "version": "3.10.15"
  }
 },
 "nbformat": 4,
 "nbformat_minor": 2
}
