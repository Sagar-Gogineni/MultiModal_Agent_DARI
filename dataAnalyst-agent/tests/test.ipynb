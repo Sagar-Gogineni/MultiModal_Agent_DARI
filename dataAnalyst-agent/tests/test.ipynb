{
 "cells": [
  {
   "cell_type": "code",
   "execution_count": 7,
   "metadata": {},
   "outputs": [
    {
     "data": {
      "text/plain": [
       "CompletionResponse(text='Hello! How can I assist you today?', additional_kwargs={}, raw=ChatCompletion(id='chatcmpl-AJhl42YHldOpU6VmeVB17vnmpPqi8', choices=[Choice(finish_reason='stop', index=0, logprobs=None, message=ChatCompletionMessage(content='Hello! How can I assist you today?', refusal=None, role='assistant', audio=None, function_call=None, tool_calls=None))], created=1729259802, model='gpt-4o-mini-2024-07-18', object='chat.completion', service_tier=None, system_fingerprint='fp_e2bde53e6e', usage=CompletionUsage(completion_tokens=9, prompt_tokens=8, total_tokens=17, completion_tokens_details=CompletionTokensDetails(audio_tokens=None, reasoning_tokens=0), prompt_tokens_details=PromptTokensDetails(audio_tokens=None, cached_tokens=0))), logprobs=None, delta=None)"
      ]
     },
     "execution_count": 7,
     "metadata": {},
     "output_type": "execute_result"
    }
   ],
   "source": [
    "import os\n",
    "from dotenv import load_dotenv\n",
    "from llama_index.llms.openai import OpenAI\n",
    "\n",
    "load_dotenv()\n",
    "\n",
    "llm = OpenAI(model=\"gpt-4o-mini\")\n",
    "resp=llm.complete(\"hey\")\n",
    "resp"
   ]
  },
  {
   "cell_type": "code",
   "execution_count": 8,
   "metadata": {},
   "outputs": [],
   "source": [
    "from llama_index.multi_modal_llms.openai import OpenAIMultiModal\n",
    "\n",
    "from llama_index.core.multi_modal_llms.generic_utils import load_image_urls\n",
    "\n",
    "\n",
    "image_urls = [\n",
    "    # \"https://www.visualcapitalist.com/wp-content/uploads/2023/10/US_Mortgage_Rate_Surge-Sept-11-1.jpg\",\n",
    "    # \"https://www.sportsnet.ca/wp-content/uploads/2023/11/CP1688996471-1040x572.jpg\",\n",
    "    # \"https://res.cloudinary.com/hello-tickets/image/upload/c_limit,f_auto,q_auto,w_1920/v1640835927/o3pfl41q7m5bj8jardk0.jpg\",\n",
    "    # \"https://www.cleverfiles.com/howto/wp-content/uploads/2018/03/minion.jpg\",\n",
    "    # \"dataAnalyst-agent/dataanalyst_agent/charts0.jpg\"\n",
    "]\n",
    "\n",
    "image_documents = load_image_urls(image_urls)\n",
    "\n",
    "openai_mm_llm = OpenAIMultiModal(\n",
    "    model=\"gpt-4o-mini\", max_new_tokens=300\n",
    ")"
   ]
  },
  {
   "cell_type": "code",
   "execution_count": null,
   "metadata": {},
   "outputs": [],
   "source": [
    "from PIL import Image\n",
    "import requests\n",
    "from io import BytesIO\n",
    "\n",
    "\n",
    "img_response = requests.get(image_urls[0])\n",
    "print(image_urls[0])\n",
    "img = Image.open(BytesIO(img_response.content))\n",
    "\n"
   ]
  },
  {
   "cell_type": "code",
   "execution_count": 60,
   "metadata": {},
   "outputs": [
    {
     "name": "stdout",
     "output_type": "stream",
     "text": [
      "[ImageDocument(id_='dfdd6791-4b2c-45a3-85b7-aef3b20b4f45', embedding=None, metadata={'file_path': 'data_store\\\\charts0.jpg', 'file_name': 'charts0.jpg', 'file_type': 'image/jpeg', 'file_size': 8304, 'creation_date': '2024-10-18', 'last_modified_date': '2024-10-18'}, excluded_embed_metadata_keys=['file_name', 'file_type', 'file_size', 'creation_date', 'last_modified_date', 'last_accessed_date'], excluded_llm_metadata_keys=['file_name', 'file_type', 'file_size', 'creation_date', 'last_modified_date', 'last_accessed_date'], relationships={}, text='', mimetype='text/plain', start_char_idx=None, end_char_idx=None, text_template='{metadata_str}\\n\\n{content}', metadata_template='{key}: {value}', metadata_seperator='\\n', image=None, image_path='data_store\\\\charts0.jpg', image_url=None, image_mimetype=None, text_embedding=None)]\n"
     ]
    }
   ],
   "source": [
    "from llama_index.core import SimpleDirectoryReader\n",
    "local_dir='dataAnalyst-agent/data_store/charts0.jpg'\n",
    "image_documents = SimpleDirectoryReader(input_files=['./data_store/charts0.jpg']).load_data()\n",
    "print(image_documents)"
   ]
  },
  {
   "cell_type": "code",
   "execution_count": 59,
   "metadata": {},
   "outputs": [
    {
     "data": {
      "text/plain": [
       "CompletionResponse(text='The image displays a statistics card showing \"Total conversations\" with a value of 139,160. There is an upward arrow indicating a 29% increase, and a line graph below the text that illustrates fluctuations in data over time. The overall design is clean and minimalistic, with a light background.', additional_kwargs={}, raw=ChatCompletion(id='chatcmpl-AJi1vZ9U5gi4VUQ4jazpBnjJ8VtwA', choices=[Choice(finish_reason='stop', index=0, logprobs=None, message=ChatCompletionMessage(content='The image displays a statistics card showing \"Total conversations\" with a value of 139,160. There is an upward arrow indicating a 29% increase, and a line graph below the text that illustrates fluctuations in data over time. The overall design is clean and minimalistic, with a light background.', refusal=None, role='assistant', audio=None, function_call=None, tool_calls=None))], created=1729260847, model='gpt-4o-mini-2024-07-18', object='chat.completion', service_tier=None, system_fingerprint='fp_8552ec53e1', usage=CompletionUsage(completion_tokens=61, prompt_tokens=2847, total_tokens=2908, completion_tokens_details=CompletionTokensDetails(audio_tokens=None, reasoning_tokens=0), prompt_tokens_details=PromptTokensDetails(audio_tokens=None, cached_tokens=0))), logprobs=None, delta=None)"
      ]
     },
     "execution_count": 59,
     "metadata": {},
     "output_type": "execute_result"
    }
   ],
   "source": [
    "complete_response = openai_mm_llm.complete(\n",
    "    prompt=\"Describe the images as an alternative text\",\n",
    "    image_documents=image_documents,\n",
    ")\n",
    "complete_response"
   ]
  },
  {
   "cell_type": "code",
   "execution_count": 9,
   "metadata": {},
   "outputs": [],
   "source": [
    "stream_complete_response = openai_mm_llm.stream_complete(\n",
    "    prompt=\"give me more context for this image\",\n",
    "    image_documents=image_documents,\n",
    ")"
   ]
  },
  {
   "cell_type": "code",
   "execution_count": 13,
   "metadata": {},
   "outputs": [],
   "source": [
    "for r in stream_complete_response:\n",
    "    print(r.delta, end=\"\")"
   ]
  },
  {
   "cell_type": "code",
   "execution_count": 38,
   "metadata": {},
   "outputs": [],
   "source": [
    "from pdf2image import convert_from_path\n",
    "images = convert_from_path('chart1.pdf')\n",
    "\n",
    "for i in range(len(images)):\n",
    "      # Save pages as images in the pdf\n",
    "    images[i].save('charts'+ str(i) +'.jpg', 'JPEG')\n",
    "\n",
    "\n"
   ]
  }
 ],
 "metadata": {
  "kernelspec": {
   "display_name": "env_job_assistant",
   "language": "python",
   "name": "python3"
  },
  "language_info": {
   "codemirror_mode": {
    "name": "ipython",
    "version": 3
   },
   "file_extension": ".py",
   "mimetype": "text/x-python",
   "name": "python",
   "nbconvert_exporter": "python",
   "pygments_lexer": "ipython3",
   "version": "3.10.15"
  }
 },
 "nbformat": 4,
 "nbformat_minor": 2
}
